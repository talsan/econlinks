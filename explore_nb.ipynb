{
 "cells": [
  {
   "cell_type": "markdown",
   "metadata": {},
   "source": [
    "# ECONOMIC LINKAGES: A Text-Based Approach (in development)\n",
    "### Create unique company peer-groups using topic modelling and clustering algorithms on text from quarterly earnings calls\n",
    "- Input data from company conference calls (fool.com) and long business descriptions (IEX)\n",
    "- Technical hat-tip to [machinelearningplus.com](https://www.machinelearningplus.com/nlp/topic-modeling-gensim-python/) for providing comprehensive instruction for python's gensim library"
   ]
  },
  {
   "cell_type": "markdown",
   "metadata": {},
   "source": [
    "### Imports"
   ]
  },
  {
   "cell_type": "code",
   "execution_count": 1,
   "metadata": {},
   "outputs": [],
   "source": [
    "import pandas as pd\n",
    "import numpy as np\n",
    "\n",
    "from gensim.parsing.preprocessing import remove_stopwords\n",
    "from gensim import corpora\n",
    "from gensim import models\n",
    "from gensim.utils import simple_preprocess\n",
    "from gensim import similarities\n",
    "from gensim.parsing.porter import PorterStemmer\n",
    "\n",
    "from utils_s3 import get_etf_holdings, list_keys\n",
    "\n",
    "import pyLDAvis\n",
    "import pyLDAvis.gensim\n",
    "\n",
    "import warnings\n",
    "warnings.filterwarnings('ignore')"
   ]
  },
  {
   "cell_type": "markdown",
   "metadata": {},
   "source": [
    "### Intiailize Raw Conference Call Data"
   ]
  },
  {
   "cell_type": "markdown",
   "metadata": {},
   "source": [
    "#### Read Raw Input Data"
   ]
  },
  {
   "cell_type": "code",
   "execution_count": 64,
   "metadata": {},
   "outputs": [],
   "source": [
    "# get list of quarterly calls (events) generated from download_transcripts.py\n",
    "calls_raw = pd.read_csv('./extracts/foolcalls_extract_20200814.csv')"
   ]
  },
  {
   "cell_type": "markdown",
   "metadata": {},
   "source": [
    "#### Filter Data\n",
    "Only keep the _**presentation section**_ from calls from _**2019**_ for the _**largest 1000 companies**_ of the Russell 3000 (i.e. R1000)"
   ]
  },
  {
   "cell_type": "code",
   "execution_count": 65,
   "metadata": {},
   "outputs": [],
   "source": [
    "# only calls from 2019\n",
    "calls_2019 = calls_raw.loc[calls_raw['fiscal_period_year'] == 2019, ]\n",
    "\n",
    "# remove statement_types that are either unknown or operator (i.e. keeping P, Q, A)\n",
    "calls_2019_P = calls_2019.loc[calls_raw['statement_type'].isin(['P'])]\n",
    "\n",
    "# only analyze 500 largest stocks from the R3000\n",
    "russell_1000 = get_etf_holdings('IWV', '2020-07-31').sort_values('weight',ascending=False).head(1000)\n",
    "calls_2019_P_R1000 = calls_2019_P.merge(russell_1000,on='ticker',how='inner')"
   ]
  },
  {
   "cell_type": "markdown",
   "metadata": {},
   "source": [
    "#### Clean & Structure"
   ]
  },
  {
   "cell_type": "code",
   "execution_count": 68,
   "metadata": {},
   "outputs": [],
   "source": [
    "# remove rows with missing text (nan)\n",
    "calls_2019_P_R1000 = calls_2019_P_R1000.dropna(subset=['text'])\n",
    "\n",
    "# join text by ticker (i.e. combine individual statements from the same call and combine calls from quarters/years)\n",
    "calls = calls_2019_P_R1000.loc[:, ['ticker','text']].groupby(['ticker'])['text'].apply(lambda x: ''.join(x)).reset_index()\n",
    "\n",
    "# assign one company name per ticker because they aren't consistent (e.g. Apple Inc vs Apple, Inc)\n",
    "ticker_info = calls_2019_P_R1000[['ticker','company_name','weight','sector']].groupby('ticker').head(1)\n",
    "\n",
    "# merge back to final data frame\n",
    "calls = calls.merge(ticker_info,on='ticker',how='inner')\n",
    "calls['ticker_name'] = calls['ticker'] + ': ' + calls['company_name']"
   ]
  },
  {
   "cell_type": "markdown",
   "metadata": {},
   "source": [
    "## Pre-Processing"
   ]
  },
  {
   "cell_type": "code",
   "execution_count": 69,
   "metadata": {},
   "outputs": [],
   "source": [
    "# tokenize and remove punctuation\n",
    "calls['text'] = calls['text'].apply(lambda x: simple_preprocess(x, min_len=2, max_len=15, deacc=True))\n",
    "\n",
    "# Build the bigram model\n",
    "bigram = models.Phrases(calls['text'], min_count=5, threshold=50) # higher threshold fewer phrases.\n",
    "bigram_model = models.phrases.Phraser(bigram)\n",
    "calls['text'] = calls['text'].apply(lambda x: bigram_model[x])\n",
    "\n",
    "# remove stopwords\n",
    "calls['text'] = calls['text'].apply(lambda x: [remove_stopwords(w) for w in x])\n",
    "\n",
    "# stemming (porter)\n",
    "p = PorterStemmer()\n",
    "calls['text'] = calls['text'].apply(lambda x: p.stem_documents(x))\n",
    "\n",
    "# create dictionary object\n",
    "dictionary = corpora.Dictionary(calls['text'])\n",
    "\n",
    "# filter extremes\n",
    "dictionary.filter_extremes(no_below=5, no_above=0.20)\n",
    "\n",
    "# bag-of-words transformation\n",
    "corpus = [dictionary.doc2bow(text) for text in calls['text']]\n",
    "\n",
    "# tfidf transformation\n",
    "tfidf = models.TfidfModel(corpus)  # fit model\n",
    "corpus_tfidf = tfidf[corpus]  # apply model\n"
   ]
  },
  {
   "cell_type": "markdown",
   "metadata": {},
   "source": [
    "## Methodology 1: LSI Model Transformation"
   ]
  },
  {
   "cell_type": "code",
   "execution_count": 70,
   "metadata": {},
   "outputs": [],
   "source": [
    "# lsi transformation\n",
    "lsi_model = models.LsiModel(corpus_tfidf, id2word=dictionary, num_topics=100)  # initialize an LSI transformation\n",
    "corpus_lsi = lsi_model[corpus_tfidf]  # apply model\n",
    "# for t in lsi_model.show_topics(): # print topics\n",
    "#    print(t)"
   ]
  },
  {
   "cell_type": "markdown",
   "metadata": {},
   "source": [
    "### Document Similarities (LSI)"
   ]
  },
  {
   "cell_type": "code",
   "execution_count": 71,
   "metadata": {},
   "outputs": [],
   "source": [
    "# cosine similarity matrix with lsi\n",
    "index_lsi = similarities.MatrixSimilarity(corpus_lsi)\n",
    "sims_lsi = index_lsi[corpus_lsi]"
   ]
  },
  {
   "cell_type": "markdown",
   "metadata": {},
   "source": [
    "##### Construct & Format Outputs for Analysis"
   ]
  },
  {
   "cell_type": "code",
   "execution_count": 92,
   "metadata": {
    "scrolled": false
   },
   "outputs": [],
   "source": [
    "# get top 10 peers for each ticker\n",
    "# n = len(sims_lsi)\n",
    "# for i, s in enumerate(sims_lsi):\n",
    "#     print(calls['ticker_infoticker_name'].iloc[i])\n",
    "#     print(calls['ticker_name'].iloc[s.argsort()[::-1][:n][1:10]])\n",
    "\n",
    "\n",
    "\n",
    "# get top peers for each ticker\n",
    "peers_lsi = pd.DataFrame()\n",
    "for i, s in enumerate(sims_lsi):\n",
    "    peers_idx = np.where(s > 0.50)[0].tolist()\n",
    "    this_df = pd.DataFrame({'company': [calls['ticker_name'].iloc[i]]*len(peers_idx),\n",
    "                            'weight': [calls['weight'].iloc[i]]*len(peers_idx),\n",
    "                            'sector': [calls['sector'].iloc[i]]*len(peers_idx),\n",
    "                            'peer': calls['ticker_name'].iloc[peers_idx],\n",
    "                            'value': s[peers_idx]})\n",
    "    peers_lsi = pd.concat([peers_lsi, this_df])"
   ]
  },
  {
   "cell_type": "markdown",
   "metadata": {},
   "source": [
    "#### Explore Company-Level Peers (LSI)"
   ]
  },
  {
   "cell_type": "code",
   "execution_count": 94,
   "metadata": {
    "scrolled": true
   },
   "outputs": [
    {
     "data": {
      "text/html": [
       "<div>\n",
       "<style scoped>\n",
       "    .dataframe tbody tr th:only-of-type {\n",
       "        vertical-align: middle;\n",
       "    }\n",
       "\n",
       "    .dataframe tbody tr th {\n",
       "        vertical-align: top;\n",
       "    }\n",
       "\n",
       "    .dataframe thead th {\n",
       "        text-align: right;\n",
       "    }\n",
       "</style>\n",
       "<table border=\"1\" class=\"dataframe\">\n",
       "  <thead>\n",
       "    <tr style=\"text-align: right;\">\n",
       "      <th></th>\n",
       "      <th>company</th>\n",
       "      <th>weight</th>\n",
       "      <th>sector</th>\n",
       "      <th>peer</th>\n",
       "      <th>value</th>\n",
       "    </tr>\n",
       "  </thead>\n",
       "  <tbody>\n",
       "    <tr>\n",
       "      <th>279</th>\n",
       "      <td>MSFT: Microsoft</td>\n",
       "      <td>0.0475</td>\n",
       "      <td>Information Technology</td>\n",
       "      <td>EPAM: EPAM Systems Inc</td>\n",
       "      <td>0.694204</td>\n",
       "    </tr>\n",
       "    <tr>\n",
       "      <th>214</th>\n",
       "      <td>MSFT: Microsoft</td>\n",
       "      <td>0.0475</td>\n",
       "      <td>Information Technology</td>\n",
       "      <td>CTSH: Cognizant Technology Solutions Corp</td>\n",
       "      <td>0.692845</td>\n",
       "    </tr>\n",
       "    <tr>\n",
       "      <th>150</th>\n",
       "      <td>MSFT: Microsoft</td>\n",
       "      <td>0.0475</td>\n",
       "      <td>Information Technology</td>\n",
       "      <td>CDW: CDW</td>\n",
       "      <td>0.682461</td>\n",
       "    </tr>\n",
       "    <tr>\n",
       "      <th>301</th>\n",
       "      <td>MSFT: Microsoft</td>\n",
       "      <td>0.0475</td>\n",
       "      <td>Information Technology</td>\n",
       "      <td>EXLS: ExlService Holdings Inc</td>\n",
       "      <td>0.678646</td>\n",
       "    </tr>\n",
       "    <tr>\n",
       "      <th>577</th>\n",
       "      <td>MSFT: Microsoft</td>\n",
       "      <td>0.0475</td>\n",
       "      <td>Information Technology</td>\n",
       "      <td>NCR: NCR Corp</td>\n",
       "      <td>0.626939</td>\n",
       "    </tr>\n",
       "    <tr>\n",
       "      <th>39</th>\n",
       "      <td>MSFT: Microsoft</td>\n",
       "      <td>0.0475</td>\n",
       "      <td>Information Technology</td>\n",
       "      <td>AKAM: Akamai Technologies Inc</td>\n",
       "      <td>0.626913</td>\n",
       "    </tr>\n",
       "    <tr>\n",
       "      <th>381</th>\n",
       "      <td>MSFT: Microsoft</td>\n",
       "      <td>0.0475</td>\n",
       "      <td>Information Technology</td>\n",
       "      <td>HBI: Hanesbrands Inc</td>\n",
       "      <td>0.622895</td>\n",
       "    </tr>\n",
       "    <tr>\n",
       "      <th>399</th>\n",
       "      <td>MSFT: Microsoft</td>\n",
       "      <td>0.0475</td>\n",
       "      <td>Information Technology</td>\n",
       "      <td>HPE: Hewlett Packard Enterprise Company</td>\n",
       "      <td>0.615448</td>\n",
       "    </tr>\n",
       "    <tr>\n",
       "      <th>438</th>\n",
       "      <td>MSFT: Microsoft</td>\n",
       "      <td>0.0475</td>\n",
       "      <td>Information Technology</td>\n",
       "      <td>IQV: IQVIA Holdings Inc.</td>\n",
       "      <td>0.606855</td>\n",
       "    </tr>\n",
       "    <tr>\n",
       "      <th>538</th>\n",
       "      <td>MSFT: Microsoft</td>\n",
       "      <td>0.0475</td>\n",
       "      <td>Information Technology</td>\n",
       "      <td>MKC: McCormick</td>\n",
       "      <td>0.604284</td>\n",
       "    </tr>\n",
       "    <tr>\n",
       "      <th>400</th>\n",
       "      <td>MSFT: Microsoft</td>\n",
       "      <td>0.0475</td>\n",
       "      <td>Information Technology</td>\n",
       "      <td>HPQ: HP Inc.</td>\n",
       "      <td>0.594907</td>\n",
       "    </tr>\n",
       "    <tr>\n",
       "      <th>900</th>\n",
       "      <td>MSFT: Microsoft</td>\n",
       "      <td>0.0475</td>\n",
       "      <td>Information Technology</td>\n",
       "      <td>WU: Western Union</td>\n",
       "      <td>0.591047</td>\n",
       "    </tr>\n",
       "    <tr>\n",
       "      <th>815</th>\n",
       "      <td>MSFT: Microsoft</td>\n",
       "      <td>0.0475</td>\n",
       "      <td>Information Technology</td>\n",
       "      <td>TRU: TransUnion</td>\n",
       "      <td>0.588363</td>\n",
       "    </tr>\n",
       "    <tr>\n",
       "      <th>882</th>\n",
       "      <td>MSFT: Microsoft</td>\n",
       "      <td>0.0475</td>\n",
       "      <td>Information Technology</td>\n",
       "      <td>WLTW: Willis Towers Watson Public Limited Company</td>\n",
       "      <td>0.580171</td>\n",
       "    </tr>\n",
       "    <tr>\n",
       "      <th>785</th>\n",
       "      <td>MSFT: Microsoft</td>\n",
       "      <td>0.0475</td>\n",
       "      <td>Information Technology</td>\n",
       "      <td>TAP: Molson Coors Brewing Co</td>\n",
       "      <td>0.566604</td>\n",
       "    </tr>\n",
       "    <tr>\n",
       "      <th>797</th>\n",
       "      <td>MSFT: Microsoft</td>\n",
       "      <td>0.0475</td>\n",
       "      <td>Information Technology</td>\n",
       "      <td>TFX: Teleflex Inc.</td>\n",
       "      <td>0.561638</td>\n",
       "    </tr>\n",
       "    <tr>\n",
       "      <th>96</th>\n",
       "      <td>MSFT: Microsoft</td>\n",
       "      <td>0.0475</td>\n",
       "      <td>Information Technology</td>\n",
       "      <td>BAX: Baxter International Inc</td>\n",
       "      <td>0.560732</td>\n",
       "    </tr>\n",
       "    <tr>\n",
       "      <th>833</th>\n",
       "      <td>MSFT: Microsoft</td>\n",
       "      <td>0.0475</td>\n",
       "      <td>Information Technology</td>\n",
       "      <td>UBER: Uber Technologies, Inc.</td>\n",
       "      <td>0.540363</td>\n",
       "    </tr>\n",
       "    <tr>\n",
       "      <th>860</th>\n",
       "      <td>MSFT: Microsoft</td>\n",
       "      <td>0.0475</td>\n",
       "      <td>Information Technology</td>\n",
       "      <td>VRSK: Verisk Analytics</td>\n",
       "      <td>0.531953</td>\n",
       "    </tr>\n",
       "    <tr>\n",
       "      <th>347</th>\n",
       "      <td>MSFT: Microsoft</td>\n",
       "      <td>0.0475</td>\n",
       "      <td>Information Technology</td>\n",
       "      <td>G: Genpact</td>\n",
       "      <td>0.528742</td>\n",
       "    </tr>\n",
       "    <tr>\n",
       "      <th>770</th>\n",
       "      <td>MSFT: Microsoft</td>\n",
       "      <td>0.0475</td>\n",
       "      <td>Information Technology</td>\n",
       "      <td>STE: Steris Corp</td>\n",
       "      <td>0.528303</td>\n",
       "    </tr>\n",
       "    <tr>\n",
       "      <th>409</th>\n",
       "      <td>MSFT: Microsoft</td>\n",
       "      <td>0.0475</td>\n",
       "      <td>Information Technology</td>\n",
       "      <td>HUBS: HubSpot Inc</td>\n",
       "      <td>0.528125</td>\n",
       "    </tr>\n",
       "    <tr>\n",
       "      <th>145</th>\n",
       "      <td>MSFT: Microsoft</td>\n",
       "      <td>0.0475</td>\n",
       "      <td>Information Technology</td>\n",
       "      <td>CDAY: Ceridian HCM Holding Inc.</td>\n",
       "      <td>0.523595</td>\n",
       "    </tr>\n",
       "    <tr>\n",
       "      <th>60</th>\n",
       "      <td>MSFT: Microsoft</td>\n",
       "      <td>0.0475</td>\n",
       "      <td>Information Technology</td>\n",
       "      <td>ANSS: ANSYS</td>\n",
       "      <td>0.513498</td>\n",
       "    </tr>\n",
       "    <tr>\n",
       "      <th>537</th>\n",
       "      <td>MSFT: Microsoft</td>\n",
       "      <td>0.0475</td>\n",
       "      <td>Information Technology</td>\n",
       "      <td>MIME: Mimecast Limited</td>\n",
       "      <td>0.511522</td>\n",
       "    </tr>\n",
       "    <tr>\n",
       "      <th>112</th>\n",
       "      <td>MSFT: Microsoft</td>\n",
       "      <td>0.0475</td>\n",
       "      <td>Information Technology</td>\n",
       "      <td>BKNG: Booking Holdings Inc.</td>\n",
       "      <td>0.507815</td>\n",
       "    </tr>\n",
       "    <tr>\n",
       "      <th>590</th>\n",
       "      <td>MSFT: Microsoft</td>\n",
       "      <td>0.0475</td>\n",
       "      <td>Information Technology</td>\n",
       "      <td>NLSN: Nielsen Holdings PLC</td>\n",
       "      <td>0.506271</td>\n",
       "    </tr>\n",
       "  </tbody>\n",
       "</table>\n",
       "</div>"
      ],
      "text/plain": [
       "             company  weight                  sector  \\\n",
       "279  MSFT: Microsoft  0.0475  Information Technology   \n",
       "214  MSFT: Microsoft  0.0475  Information Technology   \n",
       "150  MSFT: Microsoft  0.0475  Information Technology   \n",
       "301  MSFT: Microsoft  0.0475  Information Technology   \n",
       "577  MSFT: Microsoft  0.0475  Information Technology   \n",
       "39   MSFT: Microsoft  0.0475  Information Technology   \n",
       "381  MSFT: Microsoft  0.0475  Information Technology   \n",
       "399  MSFT: Microsoft  0.0475  Information Technology   \n",
       "438  MSFT: Microsoft  0.0475  Information Technology   \n",
       "538  MSFT: Microsoft  0.0475  Information Technology   \n",
       "400  MSFT: Microsoft  0.0475  Information Technology   \n",
       "900  MSFT: Microsoft  0.0475  Information Technology   \n",
       "815  MSFT: Microsoft  0.0475  Information Technology   \n",
       "882  MSFT: Microsoft  0.0475  Information Technology   \n",
       "785  MSFT: Microsoft  0.0475  Information Technology   \n",
       "797  MSFT: Microsoft  0.0475  Information Technology   \n",
       "96   MSFT: Microsoft  0.0475  Information Technology   \n",
       "833  MSFT: Microsoft  0.0475  Information Technology   \n",
       "860  MSFT: Microsoft  0.0475  Information Technology   \n",
       "347  MSFT: Microsoft  0.0475  Information Technology   \n",
       "770  MSFT: Microsoft  0.0475  Information Technology   \n",
       "409  MSFT: Microsoft  0.0475  Information Technology   \n",
       "145  MSFT: Microsoft  0.0475  Information Technology   \n",
       "60   MSFT: Microsoft  0.0475  Information Technology   \n",
       "537  MSFT: Microsoft  0.0475  Information Technology   \n",
       "112  MSFT: Microsoft  0.0475  Information Technology   \n",
       "590  MSFT: Microsoft  0.0475  Information Technology   \n",
       "\n",
       "                                                  peer     value  \n",
       "279                             EPAM: EPAM Systems Inc  0.694204  \n",
       "214          CTSH: Cognizant Technology Solutions Corp  0.692845  \n",
       "150                                           CDW: CDW  0.682461  \n",
       "301                      EXLS: ExlService Holdings Inc  0.678646  \n",
       "577                                      NCR: NCR Corp  0.626939  \n",
       "39                       AKAM: Akamai Technologies Inc  0.626913  \n",
       "381                               HBI: Hanesbrands Inc  0.622895  \n",
       "399            HPE: Hewlett Packard Enterprise Company  0.615448  \n",
       "438                           IQV: IQVIA Holdings Inc.  0.606855  \n",
       "538                                     MKC: McCormick  0.604284  \n",
       "400                                       HPQ: HP Inc.  0.594907  \n",
       "900                                  WU: Western Union  0.591047  \n",
       "815                                    TRU: TransUnion  0.588363  \n",
       "882  WLTW: Willis Towers Watson Public Limited Company  0.580171  \n",
       "785                       TAP: Molson Coors Brewing Co  0.566604  \n",
       "797                                 TFX: Teleflex Inc.  0.561638  \n",
       "96                       BAX: Baxter International Inc  0.560732  \n",
       "833                      UBER: Uber Technologies, Inc.  0.540363  \n",
       "860                             VRSK: Verisk Analytics  0.531953  \n",
       "347                                         G: Genpact  0.528742  \n",
       "770                                   STE: Steris Corp  0.528303  \n",
       "409                                  HUBS: HubSpot Inc  0.528125  \n",
       "145                    CDAY: Ceridian HCM Holding Inc.  0.523595  \n",
       "60                                         ANSS: ANSYS  0.513498  \n",
       "537                             MIME: Mimecast Limited  0.511522  \n",
       "112                       BKNG: Booking Holdings Inc.   0.507815  \n",
       "590                         NLSN: Nielsen Holdings PLC  0.506271  "
      ]
     },
     "execution_count": 94,
     "metadata": {},
     "output_type": "execute_result"
    }
   ],
   "source": [
    "peers_lsi = peers_lsi.dropna()\n",
    "peers_lsi.loc[peers_lsi.company.str.contains('MSFT'),].sort_values('value',ascending=False)[1:]"
   ]
  },
  {
   "cell_type": "markdown",
   "metadata": {},
   "source": [
    "#### Export to Cytoscape"
   ]
  },
  {
   "cell_type": "code",
   "execution_count": 82,
   "metadata": {},
   "outputs": [],
   "source": [
    "peers_lsi.to_csv('output/peers_lsi.csv',sep='|',index=False)"
   ]
  },
  {
   "cell_type": "markdown",
   "metadata": {},
   "source": [
    "#### Preliminary Network Output"
   ]
  },
  {
   "cell_type": "markdown",
   "metadata": {},
   "source": [
    "![test](files/output/peers_lsi.png)"
   ]
  },
  {
   "cell_type": "markdown",
   "metadata": {},
   "source": [
    "## Methodology 2: LDA Topic Modelling"
   ]
  },
  {
   "cell_type": "code",
   "execution_count": null,
   "metadata": {},
   "outputs": [],
   "source": [
    "# lda transformation\n",
    "lda = models.ldamodel.LdaModel(corpus=corpus, id2word=dictionary, num_topics=20)\n",
    "corpus_lda = lda[corpus] # apply lda model to corpus\n",
    "lda.print_topics()\n",
    "\n",
    "# data visualization\n",
    "pyLDAvis.enable_notebook()\n",
    "vis = pyLDAvis.gensim.prepare(lda, corpus, dictionary)\n",
    "vis"
   ]
  },
  {
   "cell_type": "markdown",
   "metadata": {},
   "source": [
    "### Document Similarities (LDA)"
   ]
  },
  {
   "cell_type": "code",
   "execution_count": null,
   "metadata": {},
   "outputs": [],
   "source": [
    "# cosine similarity matrix with lda\n",
    "index_lda = similarities.MatrixSimilarity(corpus_lda)\n",
    "sims_lda = index_lda[corpus_lda]\n",
    "\n",
    "# get top 10 peers for each ticker\n",
    "n = len(sims_lda)\n",
    "for i, s in enumerate(sims_lda):\n",
    "    print(calls['ticker_name'].iloc[i])\n",
    "    print(calls['ticker_name'].iloc[s.argsort()[::-1][:n][0:10]])\n",
    "\n",
    "# get top peers for each ticker\n",
    "peers_lda = pd.DataFrame()\n",
    "for i, s in enumerate(sims_lda):\n",
    "    peers_idx = np.where(s > 0.95)[0].tolist()\n",
    "    this_df = pd.DataFrame({'company': [calls['ticker_name'].iloc[i]]*len(peers_idx),\n",
    "                            'peer': calls['ticker_name'].iloc[peers_idx],\n",
    "                            'value': s[peers_idx]})\n",
    "    peers_lda = pd.concat([peers_lda, this_df])"
   ]
  },
  {
   "cell_type": "markdown",
   "metadata": {},
   "source": [
    "#### Explore Company-Level Peers (LDA)"
   ]
  },
  {
   "cell_type": "code",
   "execution_count": null,
   "metadata": {},
   "outputs": [],
   "source": [
    "peers_lda.loc[peers_lda.company.str.contains('AMZN'),].sort_values('value',ascending=False)[1:]"
   ]
  },
  {
   "cell_type": "code",
   "execution_count": null,
   "metadata": {},
   "outputs": [],
   "source": []
  }
 ],
 "metadata": {
  "kernelspec": {
   "display_name": "Python 3",
   "language": "python",
   "name": "python3"
  },
  "language_info": {
   "codemirror_mode": {
    "name": "ipython",
    "version": 3
   },
   "file_extension": ".py",
   "mimetype": "text/x-python",
   "name": "python",
   "nbconvert_exporter": "python",
   "pygments_lexer": "ipython3",
   "version": "3.8.5"
  }
 },
 "nbformat": 4,
 "nbformat_minor": 4
}
